{
 "cells": [
  {
   "cell_type": "code",
   "execution_count": 1,
   "id": "eb7b6633",
   "metadata": {},
   "outputs": [
    {
     "name": "stdout",
     "output_type": "stream",
     "text": [
      "Requirement already satisfied: dtale in c:\\users\\soura\\anaconda3\\lib\\site-packages (2.14.0)\n",
      "Requirement already satisfied: seaborn in c:\\users\\soura\\anaconda3\\lib\\site-packages (from dtale) (0.11.2)\n",
      "Requirement already satisfied: six in c:\\users\\soura\\anaconda3\\lib\\site-packages (from dtale) (1.16.0)\n",
      "Requirement already satisfied: pandas in c:\\users\\soura\\anaconda3\\lib\\site-packages (from dtale) (1.4.4)\n",
      "Requirement already satisfied: scikit-learn in c:\\users\\soura\\anaconda3\\lib\\site-packages (from dtale) (1.2.2)\n",
      "Requirement already satisfied: dash-bootstrap-components<=1.3.1 in c:\\users\\soura\\anaconda3\\lib\\site-packages (from dtale) (1.3.1)\n",
      "Requirement already satisfied: dash-colorscales in c:\\users\\soura\\anaconda3\\lib\\site-packages (from dtale) (0.0.4)\n",
      "Requirement already satisfied: networkx in c:\\users\\soura\\anaconda3\\lib\\site-packages (from dtale) (2.8.4)\n",
      "Requirement already satisfied: beautifulsoup4 in c:\\users\\soura\\anaconda3\\lib\\site-packages (from dtale) (4.11.1)\n",
      "Requirement already satisfied: certifi in c:\\users\\soura\\anaconda3\\lib\\site-packages (from dtale) (2022.9.14)\n",
      "Requirement already satisfied: statsmodels in c:\\users\\soura\\anaconda3\\lib\\site-packages (from dtale) (0.13.2)\n",
      "Requirement already satisfied: numpy in c:\\users\\soura\\anaconda3\\lib\\site-packages (from dtale) (1.23.5)\n",
      "Requirement already satisfied: Flask-Compress in c:\\users\\soura\\anaconda3\\lib\\site-packages (from dtale) (1.13)\n",
      "Requirement already satisfied: xarray in c:\\users\\soura\\anaconda3\\lib\\site-packages (from dtale) (0.20.1)\n",
      "Requirement already satisfied: matplotlib==3.6.0 in c:\\users\\soura\\anaconda3\\lib\\site-packages (from dtale) (3.6.0)\n",
      "Requirement already satisfied: kaleido in c:\\users\\soura\\anaconda3\\lib\\site-packages (from dtale) (0.2.1)\n",
      "Requirement already satisfied: dash-daq in c:\\users\\soura\\anaconda3\\lib\\site-packages (from dtale) (0.5.0)\n",
      "Requirement already satisfied: plotly>=5.0.0 in c:\\users\\soura\\anaconda3\\lib\\site-packages (from dtale) (5.9.0)\n",
      "Requirement already satisfied: squarify in c:\\users\\soura\\anaconda3\\lib\\site-packages (from dtale) (0.4.3)\n",
      "Requirement already satisfied: scipy==1.9.3 in c:\\users\\soura\\anaconda3\\lib\\site-packages (from dtale) (1.9.3)\n",
      "Requirement already satisfied: xlrd in c:\\users\\soura\\anaconda3\\lib\\site-packages (from dtale) (2.0.1)\n",
      "Requirement already satisfied: dash>=2.0.0 in c:\\users\\soura\\anaconda3\\lib\\site-packages (from dtale) (2.9.2)\n",
      "Requirement already satisfied: flask-ngrok in c:\\users\\soura\\anaconda3\\lib\\site-packages (from dtale) (0.0.25)\n",
      "Requirement already satisfied: requests in c:\\users\\soura\\anaconda3\\lib\\site-packages (from dtale) (2.28.1)\n",
      "Requirement already satisfied: et-xmlfile in c:\\users\\soura\\anaconda3\\lib\\site-packages (from dtale) (1.1.0)\n",
      "Requirement already satisfied: cycler in c:\\users\\soura\\anaconda3\\lib\\site-packages (from dtale) (0.11.0)\n",
      "Requirement already satisfied: strsimpy in c:\\users\\soura\\anaconda3\\lib\\site-packages (from dtale) (0.2.1)\n",
      "Requirement already satisfied: openpyxl!=3.2.0b1 in c:\\users\\soura\\anaconda3\\lib\\site-packages (from dtale) (3.0.10)\n",
      "Requirement already satisfied: future>=0.14.0 in c:\\users\\soura\\anaconda3\\lib\\site-packages (from dtale) (0.18.2)\n",
      "Requirement already satisfied: Flask in c:\\users\\soura\\anaconda3\\lib\\site-packages (from dtale) (1.1.2)\n",
      "Requirement already satisfied: missingno<=0.4.2 in c:\\users\\soura\\anaconda3\\lib\\site-packages (from dtale) (0.4.2)\n",
      "Requirement already satisfied: lz4 in c:\\users\\soura\\anaconda3\\lib\\site-packages (from dtale) (3.1.3)\n",
      "Requirement already satisfied: itsdangerous in c:\\users\\soura\\anaconda3\\lib\\site-packages (from dtale) (2.0.1)\n",
      "Requirement already satisfied: kiwisolver>=1.0.1 in c:\\users\\soura\\anaconda3\\lib\\site-packages (from matplotlib==3.6.0->dtale) (1.4.2)\n",
      "Requirement already satisfied: pillow>=6.2.0 in c:\\users\\soura\\anaconda3\\lib\\site-packages (from matplotlib==3.6.0->dtale) (9.2.0)\n",
      "Requirement already satisfied: pyparsing>=2.2.1 in c:\\users\\soura\\anaconda3\\lib\\site-packages (from matplotlib==3.6.0->dtale) (3.0.9)\n",
      "Requirement already satisfied: fonttools>=4.22.0 in c:\\users\\soura\\anaconda3\\lib\\site-packages (from matplotlib==3.6.0->dtale) (4.25.0)\n",
      "Requirement already satisfied: python-dateutil>=2.7 in c:\\users\\soura\\anaconda3\\lib\\site-packages (from matplotlib==3.6.0->dtale) (2.8.2)\n",
      "Requirement already satisfied: packaging>=20.0 in c:\\users\\soura\\anaconda3\\lib\\site-packages (from matplotlib==3.6.0->dtale) (21.3)\n",
      "Requirement already satisfied: contourpy>=1.0.1 in c:\\users\\soura\\anaconda3\\lib\\site-packages (from matplotlib==3.6.0->dtale) (1.0.7)\n",
      "Requirement already satisfied: dash-core-components==2.0.0 in c:\\users\\soura\\anaconda3\\lib\\site-packages (from dash>=2.0.0->dtale) (2.0.0)\n",
      "Requirement already satisfied: dash-html-components==2.0.0 in c:\\users\\soura\\anaconda3\\lib\\site-packages (from dash>=2.0.0->dtale) (2.0.0)\n",
      "Requirement already satisfied: dash-table==5.0.0 in c:\\users\\soura\\anaconda3\\lib\\site-packages (from dash>=2.0.0->dtale) (5.0.0)\n",
      "Requirement already satisfied: Jinja2>=2.10.1 in c:\\users\\soura\\anaconda3\\lib\\site-packages (from Flask->dtale) (2.11.3)\n",
      "Requirement already satisfied: click>=5.1 in c:\\users\\soura\\anaconda3\\lib\\site-packages (from Flask->dtale) (8.0.4)\n",
      "Requirement already satisfied: Werkzeug>=0.15 in c:\\users\\soura\\anaconda3\\lib\\site-packages (from Flask->dtale) (2.0.3)\n",
      "Requirement already satisfied: tenacity>=6.2.0 in c:\\users\\soura\\anaconda3\\lib\\site-packages (from plotly>=5.0.0->dtale) (8.0.1)\n",
      "Requirement already satisfied: soupsieve>1.2 in c:\\users\\soura\\anaconda3\\lib\\site-packages (from beautifulsoup4->dtale) (2.3.1)\n",
      "Requirement already satisfied: brotli in c:\\users\\soura\\anaconda3\\lib\\site-packages (from Flask-Compress->dtale) (1.0.9)\n",
      "Requirement already satisfied: pytz>=2020.1 in c:\\users\\soura\\anaconda3\\lib\\site-packages (from pandas->dtale) (2022.1)\n",
      "Requirement already satisfied: idna<4,>=2.5 in c:\\users\\soura\\anaconda3\\lib\\site-packages (from requests->dtale) (3.3)\n",
      "Requirement already satisfied: urllib3<1.27,>=1.21.1 in c:\\users\\soura\\anaconda3\\lib\\site-packages (from requests->dtale) (1.26.11)\n",
      "Requirement already satisfied: charset-normalizer<3,>=2 in c:\\users\\soura\\anaconda3\\lib\\site-packages (from requests->dtale) (2.0.4)\n",
      "Requirement already satisfied: joblib>=1.1.1 in c:\\users\\soura\\anaconda3\\lib\\site-packages (from scikit-learn->dtale) (1.2.0)\n",
      "Requirement already satisfied: threadpoolctl>=2.0.0 in c:\\users\\soura\\anaconda3\\lib\\site-packages (from scikit-learn->dtale) (3.1.0)\n",
      "Requirement already satisfied: patsy>=0.5.2 in c:\\users\\soura\\anaconda3\\lib\\site-packages (from statsmodels->dtale) (0.5.2)\n",
      "Requirement already satisfied: colorama in c:\\users\\soura\\anaconda3\\lib\\site-packages (from click>=5.1->Flask->dtale) (0.4.5)\n",
      "Requirement already satisfied: MarkupSafe>=0.23 in c:\\users\\soura\\anaconda3\\lib\\site-packages (from Jinja2>=2.10.1->Flask->dtale) (2.0.1)\n"
     ]
    },
    {
     "name": "stderr",
     "output_type": "stream",
     "text": [
      "WARNING: Ignoring invalid distribution -atplotlib (c:\\users\\soura\\anaconda3\\lib\\site-packages)\n",
      "WARNING: Ignoring invalid distribution -atplotlib (c:\\users\\soura\\anaconda3\\lib\\site-packages)\n",
      "WARNING: Ignoring invalid distribution -atplotlib (c:\\users\\soura\\anaconda3\\lib\\site-packages)\n",
      "WARNING: Ignoring invalid distribution -atplotlib (c:\\users\\soura\\anaconda3\\lib\\site-packages)\n",
      "WARNING: Ignoring invalid distribution -atplotlib (c:\\users\\soura\\anaconda3\\lib\\site-packages)\n",
      "WARNING: Ignoring invalid distribution -atplotlib (c:\\users\\soura\\anaconda3\\lib\\site-packages)\n"
     ]
    }
   ],
   "source": [
    "!pip install dtale"
   ]
  },
  {
   "cell_type": "code",
   "execution_count": 2,
   "id": "4a649c56",
   "metadata": {},
   "outputs": [],
   "source": [
    "import seaborn as sns\n",
    "import pandas as pd"
   ]
  },
  {
   "cell_type": "code",
   "execution_count": 7,
   "id": "3eb8583a",
   "metadata": {},
   "outputs": [],
   "source": [
    "df =pd.read_csv(r\"C:\\Users\\soura\\OneDrive\\Documents\\store (1).csv\")"
   ]
  },
  {
   "cell_type": "code",
   "execution_count": 8,
   "id": "11a7aa55",
   "metadata": {},
   "outputs": [
    {
     "data": {
      "text/html": [
       "<div>\n",
       "<style scoped>\n",
       "    .dataframe tbody tr th:only-of-type {\n",
       "        vertical-align: middle;\n",
       "    }\n",
       "\n",
       "    .dataframe tbody tr th {\n",
       "        vertical-align: top;\n",
       "    }\n",
       "\n",
       "    .dataframe thead th {\n",
       "        text-align: right;\n",
       "    }\n",
       "</style>\n",
       "<table border=\"1\" class=\"dataframe\">\n",
       "  <thead>\n",
       "    <tr style=\"text-align: right;\">\n",
       "      <th></th>\n",
       "      <th>Store</th>\n",
       "      <th>StoreType</th>\n",
       "      <th>Assortment</th>\n",
       "      <th>CompetitionDistance</th>\n",
       "      <th>CompetitionOpenSinceMonth</th>\n",
       "      <th>CompetitionOpenSinceYear</th>\n",
       "      <th>Promo2</th>\n",
       "      <th>Promo2SinceWeek</th>\n",
       "      <th>Promo2SinceYear</th>\n",
       "      <th>PromoInterval</th>\n",
       "    </tr>\n",
       "  </thead>\n",
       "  <tbody>\n",
       "    <tr>\n",
       "      <th>0</th>\n",
       "      <td>1</td>\n",
       "      <td>c</td>\n",
       "      <td>a</td>\n",
       "      <td>1270.0</td>\n",
       "      <td>9.0</td>\n",
       "      <td>2008.0</td>\n",
       "      <td>0</td>\n",
       "      <td>NaN</td>\n",
       "      <td>NaN</td>\n",
       "      <td>NaN</td>\n",
       "    </tr>\n",
       "    <tr>\n",
       "      <th>1</th>\n",
       "      <td>2</td>\n",
       "      <td>a</td>\n",
       "      <td>a</td>\n",
       "      <td>570.0</td>\n",
       "      <td>11.0</td>\n",
       "      <td>2007.0</td>\n",
       "      <td>1</td>\n",
       "      <td>13.0</td>\n",
       "      <td>2010.0</td>\n",
       "      <td>Jan,Apr,Jul,Oct</td>\n",
       "    </tr>\n",
       "    <tr>\n",
       "      <th>2</th>\n",
       "      <td>3</td>\n",
       "      <td>a</td>\n",
       "      <td>a</td>\n",
       "      <td>14130.0</td>\n",
       "      <td>12.0</td>\n",
       "      <td>2006.0</td>\n",
       "      <td>1</td>\n",
       "      <td>14.0</td>\n",
       "      <td>2011.0</td>\n",
       "      <td>Jan,Apr,Jul,Oct</td>\n",
       "    </tr>\n",
       "    <tr>\n",
       "      <th>3</th>\n",
       "      <td>4</td>\n",
       "      <td>c</td>\n",
       "      <td>c</td>\n",
       "      <td>620.0</td>\n",
       "      <td>9.0</td>\n",
       "      <td>2009.0</td>\n",
       "      <td>0</td>\n",
       "      <td>NaN</td>\n",
       "      <td>NaN</td>\n",
       "      <td>NaN</td>\n",
       "    </tr>\n",
       "    <tr>\n",
       "      <th>4</th>\n",
       "      <td>5</td>\n",
       "      <td>a</td>\n",
       "      <td>a</td>\n",
       "      <td>29910.0</td>\n",
       "      <td>4.0</td>\n",
       "      <td>2015.0</td>\n",
       "      <td>0</td>\n",
       "      <td>NaN</td>\n",
       "      <td>NaN</td>\n",
       "      <td>NaN</td>\n",
       "    </tr>\n",
       "  </tbody>\n",
       "</table>\n",
       "</div>"
      ],
      "text/plain": [
       "   Store StoreType Assortment  CompetitionDistance  CompetitionOpenSinceMonth  \\\n",
       "0      1         c          a               1270.0                        9.0   \n",
       "1      2         a          a                570.0                       11.0   \n",
       "2      3         a          a              14130.0                       12.0   \n",
       "3      4         c          c                620.0                        9.0   \n",
       "4      5         a          a              29910.0                        4.0   \n",
       "\n",
       "   CompetitionOpenSinceYear  Promo2  Promo2SinceWeek  Promo2SinceYear  \\\n",
       "0                    2008.0       0              NaN              NaN   \n",
       "1                    2007.0       1             13.0           2010.0   \n",
       "2                    2006.0       1             14.0           2011.0   \n",
       "3                    2009.0       0              NaN              NaN   \n",
       "4                    2015.0       0              NaN              NaN   \n",
       "\n",
       "     PromoInterval  \n",
       "0              NaN  \n",
       "1  Jan,Apr,Jul,Oct  \n",
       "2  Jan,Apr,Jul,Oct  \n",
       "3              NaN  \n",
       "4              NaN  "
      ]
     },
     "execution_count": 8,
     "metadata": {},
     "output_type": "execute_result"
    }
   ],
   "source": [
    "df.head()"
   ]
  },
  {
   "cell_type": "code",
   "execution_count": 9,
   "id": "f27e8b9c",
   "metadata": {},
   "outputs": [],
   "source": [
    "import dtale"
   ]
  },
  {
   "cell_type": "code",
   "execution_count": 10,
   "id": "12c19c5a",
   "metadata": {
    "scrolled": true
   },
   "outputs": [
    {
     "name": "stderr",
     "output_type": "stream",
     "text": [
      "C:\\Users\\soura\\anaconda3\\lib\\site-packages\\dtale\\views.py:756: FutureWarning:\n",
      "\n",
      "['PromoInterval'] did not aggregate successfully. If any error is raised this will raise in a future version of pandas. Drop these columns/ops to avoid this warning.\n",
      "\n"
     ]
    },
    {
     "data": {
      "text/html": [
       "\n",
       "        <iframe\n",
       "            width=\"100%\"\n",
       "            height=\"475\"\n",
       "            src=\"http://LAPTOP-7HEKKNMN:40000/dtale/iframe/1\"\n",
       "            frameborder=\"0\"\n",
       "            allowfullscreen\n",
       "            \n",
       "        ></iframe>\n",
       "        "
      ],
      "text/plain": [
       "<IPython.lib.display.IFrame at 0x174cc6f1970>"
      ]
     },
     "metadata": {},
     "output_type": "display_data"
    },
    {
     "data": {
      "text/plain": []
     },
     "execution_count": 10,
     "metadata": {},
     "output_type": "execute_result"
    },
    {
     "name": "stderr",
     "output_type": "stream",
     "text": [
      "2023-05-09 17:04:18,272 - WARNING  - findfont: Font family 'Heiti TC' not found.\n",
      "2023-05-09 17:04:18,314 - WARNING  - findfont: Font family 'Heiti TC' not found.\n",
      "2023-05-09 17:04:18,329 - WARNING  - findfont: Font family 'Heiti TC' not found.\n",
      "2023-05-09 17:04:18,344 - WARNING  - findfont: Font family 'Heiti TC' not found.\n",
      "2023-05-09 17:04:18,363 - WARNING  - findfont: Font family 'Heiti TC' not found.\n",
      "2023-05-09 17:04:18,377 - WARNING  - findfont: Font family 'Heiti TC' not found.\n",
      "2023-05-09 17:04:18,390 - WARNING  - findfont: Font family 'Heiti TC' not found.\n",
      "2023-05-09 17:04:18,405 - WARNING  - findfont: Font family 'Heiti TC' not found.\n",
      "2023-05-09 17:04:18,419 - WARNING  - findfont: Font family 'Heiti TC' not found.\n",
      "2023-05-09 17:04:18,437 - WARNING  - findfont: Font family 'Heiti TC' not found.\n",
      "2023-05-09 17:04:18,452 - WARNING  - findfont: Font family 'Heiti TC' not found.\n",
      "2023-05-09 17:04:18,468 - WARNING  - findfont: Font family 'Heiti TC' not found.\n",
      "2023-05-09 17:04:18,482 - WARNING  - findfont: Font family 'Heiti TC' not found.\n",
      "2023-05-09 17:04:18,505 - WARNING  - findfont: Font family 'Heiti TC' not found.\n",
      "2023-05-09 17:04:18,520 - WARNING  - findfont: Font family 'Heiti TC' not found.\n",
      "2023-05-09 17:04:18,539 - WARNING  - findfont: Font family 'Heiti TC' not found.\n",
      "2023-05-09 17:04:18,554 - WARNING  - findfont: Font family 'Heiti TC' not found.\n",
      "2023-05-09 17:04:18,574 - WARNING  - findfont: Font family 'Heiti TC' not found.\n",
      "2023-05-09 17:04:18,588 - WARNING  - findfont: Font family 'Heiti TC' not found.\n",
      "2023-05-09 17:04:18,633 - WARNING  - findfont: Font family 'Heiti TC' not found.\n",
      "2023-05-09 17:04:18,649 - WARNING  - findfont: Font family 'Heiti TC' not found.\n",
      "2023-05-09 17:04:18,668 - WARNING  - findfont: Font family 'Heiti TC' not found.\n",
      "2023-05-09 17:04:18,689 - WARNING  - findfont: Font family 'Heiti TC' not found.\n",
      "2023-05-09 17:04:18,704 - WARNING  - findfont: Font family 'Heiti TC' not found.\n",
      "2023-05-09 17:04:18,724 - WARNING  - findfont: Font family 'Heiti TC' not found.\n",
      "2023-05-09 17:04:18,739 - WARNING  - findfont: Font family 'Heiti TC' not found.\n",
      "2023-05-09 17:04:18,759 - WARNING  - findfont: Font family 'Heiti TC' not found.\n",
      "2023-05-09 17:04:18,773 - WARNING  - findfont: Font family 'Heiti TC' not found.\n",
      "2023-05-09 17:04:18,788 - WARNING  - findfont: Font family 'Heiti TC' not found.\n",
      "2023-05-09 17:04:18,809 - WARNING  - findfont: Font family 'Heiti TC' not found.\n",
      "2023-05-09 17:04:18,824 - WARNING  - findfont: Font family 'Heiti TC' not found.\n",
      "2023-05-09 17:04:18,843 - WARNING  - findfont: Font family 'Heiti TC' not found.\n",
      "2023-05-09 17:04:18,858 - WARNING  - findfont: Font family 'Heiti TC' not found.\n",
      "2023-05-09 17:04:18,880 - WARNING  - findfont: Font family 'Heiti TC' not found.\n",
      "2023-05-09 17:04:18,894 - WARNING  - findfont: Font family 'Heiti TC' not found.\n",
      "2023-05-09 17:04:18,914 - WARNING  - findfont: Font family 'Heiti TC' not found.\n",
      "2023-05-09 17:04:18,929 - WARNING  - findfont: Font family 'Heiti TC' not found.\n",
      "2023-05-09 17:04:18,982 - WARNING  - findfont: Font family 'Heiti TC' not found.\n",
      "2023-05-09 17:04:19,003 - WARNING  - findfont: Font family 'Heiti TC' not found.\n",
      "2023-05-09 17:04:19,020 - WARNING  - findfont: Font family 'Heiti TC' not found.\n",
      "2023-05-09 17:04:19,032 - WARNING  - findfont: Font family 'Heiti TC' not found.\n",
      "2023-05-09 17:04:19,043 - WARNING  - findfont: Font family 'Heiti TC' not found.\n",
      "2023-05-09 17:04:19,062 - WARNING  - findfont: Font family 'Heiti TC' not found.\n",
      "2023-05-09 17:04:19,075 - WARNING  - findfont: Font family 'Heiti TC' not found.\n",
      "2023-05-09 17:04:19,107 - WARNING  - findfont: Font family 'Heiti TC' not found.\n",
      "2023-05-09 17:04:19,121 - WARNING  - findfont: Font family 'Heiti TC' not found.\n",
      "2023-05-09 17:04:19,143 - WARNING  - findfont: Font family 'Heiti TC' not found.\n",
      "2023-05-09 17:04:19,156 - WARNING  - findfont: Font family 'Heiti TC' not found.\n",
      "2023-05-09 17:04:19,174 - WARNING  - findfont: Font family 'Heiti TC' not found.\n",
      "2023-05-09 17:04:19,185 - WARNING  - findfont: Font family 'Heiti TC' not found.\n",
      "2023-05-09 17:04:19,197 - WARNING  - findfont: Font family 'Heiti TC' not found.\n",
      "2023-05-09 17:04:19,206 - WARNING  - findfont: Font family 'Heiti TC' not found.\n",
      "2023-05-09 17:04:19,222 - WARNING  - findfont: Font family 'Heiti TC' not found.\n",
      "2023-05-09 17:04:19,235 - WARNING  - findfont: Font family 'Heiti TC' not found.\n",
      "2023-05-09 17:04:19,244 - WARNING  - findfont: Font family 'Heiti TC' not found.\n",
      "2023-05-09 17:04:19,262 - WARNING  - findfont: Font family 'Heiti TC' not found.\n",
      "2023-05-09 17:04:19,275 - WARNING  - findfont: Font family 'Heiti TC' not found.\n",
      "2023-05-09 17:04:19,291 - WARNING  - findfont: Font family 'Heiti TC' not found.\n",
      "2023-05-09 17:04:19,300 - WARNING  - findfont: Font family 'Heiti TC' not found.\n",
      "2023-05-09 17:04:19,309 - WARNING  - findfont: Font family 'Heiti TC' not found.\n",
      "2023-05-09 17:04:19,319 - WARNING  - findfont: Font family 'Heiti TC' not found.\n",
      "2023-05-09 17:04:19,329 - WARNING  - findfont: Font family 'Heiti TC' not found.\n",
      "2023-05-09 17:04:19,338 - WARNING  - findfont: Font family 'Heiti TC' not found.\n",
      "2023-05-09 17:04:19,349 - WARNING  - findfont: Font family 'Heiti TC' not found.\n",
      "2023-05-09 17:04:19,362 - WARNING  - findfont: Font family 'Heiti TC' not found.\n",
      "2023-05-09 17:04:19,372 - WARNING  - findfont: Font family 'Heiti TC' not found.\n",
      "2023-05-09 17:04:19,381 - WARNING  - findfont: Font family 'Heiti TC' not found.\n",
      "2023-05-09 17:04:19,397 - WARNING  - findfont: Font family 'Heiti TC' not found.\n",
      "2023-05-09 17:04:19,405 - WARNING  - findfont: Font family 'Heiti TC' not found.\n",
      "2023-05-09 17:04:19,418 - WARNING  - findfont: Font family 'Heiti TC' not found.\n",
      "2023-05-09 17:04:19,428 - WARNING  - findfont: Font family 'Heiti TC' not found.\n",
      "2023-05-09 17:04:19,436 - WARNING  - findfont: Font family 'Heiti TC' not found.\n",
      "2023-05-09 17:04:19,453 - WARNING  - findfont: Font family 'Heiti TC' not found.\n",
      "2023-05-09 17:04:19,463 - WARNING  - findfont: Font family 'Heiti TC' not found.\n",
      "2023-05-09 17:04:19,471 - WARNING  - findfont: Font family 'Heiti TC' not found.\n",
      "2023-05-09 17:04:19,479 - WARNING  - findfont: Font family 'Heiti TC' not found.\n",
      "2023-05-09 17:04:19,494 - WARNING  - findfont: Font family 'Heiti TC' not found.\n",
      "2023-05-09 17:04:19,503 - WARNING  - findfont: Font family 'Heiti TC' not found.\n",
      "2023-05-09 17:04:19,510 - WARNING  - findfont: Font family 'Heiti TC' not found.\n",
      "2023-05-09 17:04:19,523 - WARNING  - findfont: Font family 'Heiti TC' not found.\n",
      "2023-05-09 17:04:19,532 - WARNING  - findfont: Font family 'Heiti TC' not found.\n",
      "2023-05-09 17:04:19,539 - WARNING  - findfont: Font family 'Heiti TC' not found.\n",
      "2023-05-09 17:04:19,556 - WARNING  - findfont: Font family 'Heiti TC' not found.\n",
      "2023-05-09 17:04:19,565 - WARNING  - findfont: Font family 'Heiti TC' not found.\n",
      "2023-05-09 17:04:19,576 - WARNING  - findfont: Font family 'Heiti TC' not found.\n",
      "2023-05-09 17:04:19,586 - WARNING  - findfont: Font family 'Heiti TC' not found.\n",
      "2023-05-09 17:04:19,599 - WARNING  - findfont: Font family 'Heiti TC' not found.\n",
      "2023-05-09 17:04:19,611 - WARNING  - findfont: Font family 'Heiti TC' not found.\n",
      "2023-05-09 17:04:19,620 - WARNING  - findfont: Font family 'Heiti TC' not found.\n",
      "2023-05-09 17:04:19,629 - WARNING  - findfont: Font family 'Heiti TC' not found.\n",
      "2023-05-09 17:04:19,640 - WARNING  - findfont: Font family 'Heiti TC' not found.\n"
     ]
    }
   ],
   "source": [
    "dtale.show(df)"
   ]
  },
  {
   "cell_type": "code",
   "execution_count": 11,
   "id": "8030880e",
   "metadata": {},
   "outputs": [
    {
     "name": "stderr",
     "output_type": "stream",
     "text": [
      "WARNING: Ignoring invalid distribution -atplotlib (c:\\users\\soura\\anaconda3\\lib\\site-packages)\n",
      "WARNING: Ignoring invalid distribution -atplotlib (c:\\users\\soura\\anaconda3\\lib\\site-packages)\n",
      "ERROR: Could not find a version that satisfies the requirement pandasprofilling (from versions: none)\n",
      "ERROR: No matching distribution found for pandasprofilling\n",
      "WARNING: Ignoring invalid distribution -atplotlib (c:\\users\\soura\\anaconda3\\lib\\site-packages)\n",
      "WARNING: Ignoring invalid distribution -atplotlib (c:\\users\\soura\\anaconda3\\lib\\site-packages)\n",
      "WARNING: Ignoring invalid distribution -atplotlib (c:\\users\\soura\\anaconda3\\lib\\site-packages)\n"
     ]
    }
   ],
   "source": [
    "!pip install panadas"
   ]
  },
  {
   "cell_type": "code",
   "execution_count": 12,
   "id": "4f8e5396",
   "metadata": {},
   "outputs": [
    {
     "name": "stdout",
     "output_type": "stream",
     "text": [
      "Requirement already satisfied: pandas-profiling in c:\\users\\soura\\anaconda3\\lib\\site-packages (3.6.6)\n",
      "Requirement already satisfied: ydata-profiling in c:\\users\\soura\\anaconda3\\lib\\site-packages (from pandas-profiling) (4.1.2)\n",
      "Requirement already satisfied: pydantic<1.11,>=1.8.1 in c:\\users\\soura\\anaconda3\\lib\\site-packages (from ydata-profiling->pandas-profiling) (1.10.7)\n",
      "Requirement already satisfied: jinja2<3.2,>=2.11.1 in c:\\users\\soura\\anaconda3\\lib\\site-packages (from ydata-profiling->pandas-profiling) (2.11.3)\n",
      "Requirement already satisfied: scipy<1.10,>=1.4.1 in c:\\users\\soura\\anaconda3\\lib\\site-packages (from ydata-profiling->pandas-profiling) (1.9.3)\n",
      "Requirement already satisfied: visions[type_image_path]==0.7.5 in c:\\users\\soura\\anaconda3\\lib\\site-packages (from ydata-profiling->pandas-profiling) (0.7.5)\n",
      "Requirement already satisfied: seaborn<0.13,>=0.10.1 in c:\\users\\soura\\anaconda3\\lib\\site-packages (from ydata-profiling->pandas-profiling) (0.11.2)\n",
      "Requirement already satisfied: tqdm<4.65,>=4.48.2 in c:\\users\\soura\\anaconda3\\lib\\site-packages (from ydata-profiling->pandas-profiling) (4.64.1)\n",
      "Requirement already satisfied: imagehash==4.3.1 in c:\\users\\soura\\anaconda3\\lib\\site-packages (from ydata-profiling->pandas-profiling) (4.3.1)\n",
      "Requirement already satisfied: statsmodels<0.14,>=0.13.2 in c:\\users\\soura\\anaconda3\\lib\\site-packages (from ydata-profiling->pandas-profiling) (0.13.2)\n",
      "Requirement already satisfied: matplotlib<3.7,>=3.2 in c:\\users\\soura\\anaconda3\\lib\\site-packages (from ydata-profiling->pandas-profiling) (3.6.0)\n",
      "Requirement already satisfied: typeguard<2.14,>=2.13.2 in c:\\users\\soura\\anaconda3\\lib\\site-packages (from ydata-profiling->pandas-profiling) (2.13.3)\n",
      "Requirement already satisfied: PyYAML<6.1,>=5.0.0 in c:\\users\\soura\\anaconda3\\lib\\site-packages (from ydata-profiling->pandas-profiling) (6.0)\n",
      "Requirement already satisfied: requests<2.29,>=2.24.0 in c:\\users\\soura\\anaconda3\\lib\\site-packages (from ydata-profiling->pandas-profiling) (2.28.1)\n",
      "Requirement already satisfied: phik<0.13,>=0.11.1 in c:\\users\\soura\\anaconda3\\lib\\site-packages (from ydata-profiling->pandas-profiling) (0.12.3)\n",
      "Requirement already satisfied: multimethod<1.10,>=1.4 in c:\\users\\soura\\anaconda3\\lib\\site-packages (from ydata-profiling->pandas-profiling) (1.9.1)\n",
      "Requirement already satisfied: numpy<1.24,>=1.16.0 in c:\\users\\soura\\anaconda3\\lib\\site-packages (from ydata-profiling->pandas-profiling) (1.23.5)\n",
      "Requirement already satisfied: htmlmin==0.1.12 in c:\\users\\soura\\anaconda3\\lib\\site-packages (from ydata-profiling->pandas-profiling) (0.1.12)\n",
      "Requirement already satisfied: pandas!=1.4.0,<1.6,>1.1 in c:\\users\\soura\\anaconda3\\lib\\site-packages (from ydata-profiling->pandas-profiling) (1.4.4)\n",
      "Requirement already satisfied: PyWavelets in c:\\users\\soura\\anaconda3\\lib\\site-packages (from imagehash==4.3.1->ydata-profiling->pandas-profiling) (1.3.0)\n",
      "Requirement already satisfied: pillow in c:\\users\\soura\\anaconda3\\lib\\site-packages (from imagehash==4.3.1->ydata-profiling->pandas-profiling) (9.2.0)\n",
      "Requirement already satisfied: tangled-up-in-unicode>=0.0.4 in c:\\users\\soura\\anaconda3\\lib\\site-packages (from visions[type_image_path]==0.7.5->ydata-profiling->pandas-profiling) (0.2.0)\n",
      "Requirement already satisfied: networkx>=2.4 in c:\\users\\soura\\anaconda3\\lib\\site-packages (from visions[type_image_path]==0.7.5->ydata-profiling->pandas-profiling) (2.8.4)\n",
      "Requirement already satisfied: attrs>=19.3.0 in c:\\users\\soura\\anaconda3\\lib\\site-packages (from visions[type_image_path]==0.7.5->ydata-profiling->pandas-profiling) (21.4.0)\n",
      "Requirement already satisfied: MarkupSafe>=0.23 in c:\\users\\soura\\anaconda3\\lib\\site-packages (from jinja2<3.2,>=2.11.1->ydata-profiling->pandas-profiling) (2.0.1)\n",
      "Requirement already satisfied: kiwisolver>=1.0.1 in c:\\users\\soura\\anaconda3\\lib\\site-packages (from matplotlib<3.7,>=3.2->ydata-profiling->pandas-profiling) (1.4.2)\n",
      "Requirement already satisfied: fonttools>=4.22.0 in c:\\users\\soura\\anaconda3\\lib\\site-packages (from matplotlib<3.7,>=3.2->ydata-profiling->pandas-profiling) (4.25.0)\n",
      "Requirement already satisfied: python-dateutil>=2.7 in c:\\users\\soura\\anaconda3\\lib\\site-packages (from matplotlib<3.7,>=3.2->ydata-profiling->pandas-profiling) (2.8.2)\n",
      "Requirement already satisfied: packaging>=20.0 in c:\\users\\soura\\anaconda3\\lib\\site-packages (from matplotlib<3.7,>=3.2->ydata-profiling->pandas-profiling) (21.3)\n",
      "Requirement already satisfied: pyparsing>=2.2.1 in c:\\users\\soura\\anaconda3\\lib\\site-packages (from matplotlib<3.7,>=3.2->ydata-profiling->pandas-profiling) (3.0.9)\n",
      "Requirement already satisfied: contourpy>=1.0.1 in c:\\users\\soura\\anaconda3\\lib\\site-packages (from matplotlib<3.7,>=3.2->ydata-profiling->pandas-profiling) (1.0.7)\n",
      "Requirement already satisfied: cycler>=0.10 in c:\\users\\soura\\anaconda3\\lib\\site-packages (from matplotlib<3.7,>=3.2->ydata-profiling->pandas-profiling) (0.11.0)\n",
      "Requirement already satisfied: pytz>=2020.1 in c:\\users\\soura\\anaconda3\\lib\\site-packages (from pandas!=1.4.0,<1.6,>1.1->ydata-profiling->pandas-profiling) (2022.1)\n",
      "Requirement already satisfied: joblib>=0.14.1 in c:\\users\\soura\\anaconda3\\lib\\site-packages (from phik<0.13,>=0.11.1->ydata-profiling->pandas-profiling) (1.2.0)\n",
      "Requirement already satisfied: typing-extensions>=4.2.0 in c:\\users\\soura\\anaconda3\\lib\\site-packages (from pydantic<1.11,>=1.8.1->ydata-profiling->pandas-profiling) (4.3.0)\n",
      "Requirement already satisfied: certifi>=2017.4.17 in c:\\users\\soura\\anaconda3\\lib\\site-packages (from requests<2.29,>=2.24.0->ydata-profiling->pandas-profiling) (2022.9.14)\n",
      "Requirement already satisfied: charset-normalizer<3,>=2 in c:\\users\\soura\\anaconda3\\lib\\site-packages (from requests<2.29,>=2.24.0->ydata-profiling->pandas-profiling) (2.0.4)\n",
      "Requirement already satisfied: urllib3<1.27,>=1.21.1 in c:\\users\\soura\\anaconda3\\lib\\site-packages (from requests<2.29,>=2.24.0->ydata-profiling->pandas-profiling) (1.26.11)\n",
      "Requirement already satisfied: idna<4,>=2.5 in c:\\users\\soura\\anaconda3\\lib\\site-packages (from requests<2.29,>=2.24.0->ydata-profiling->pandas-profiling) (3.3)\n",
      "Requirement already satisfied: patsy>=0.5.2 in c:\\users\\soura\\anaconda3\\lib\\site-packages (from statsmodels<0.14,>=0.13.2->ydata-profiling->pandas-profiling) (0.5.2)\n",
      "Requirement already satisfied: colorama in c:\\users\\soura\\anaconda3\\lib\\site-packages (from tqdm<4.65,>=4.48.2->ydata-profiling->pandas-profiling) (0.4.5)\n",
      "Requirement already satisfied: six in c:\\users\\soura\\anaconda3\\lib\\site-packages (from patsy>=0.5.2->statsmodels<0.14,>=0.13.2->ydata-profiling->pandas-profiling) (1.16.0)\n",
      "Note: you may need to restart the kernel to use updated packages.\n"
     ]
    },
    {
     "name": "stderr",
     "output_type": "stream",
     "text": [
      "WARNING: Ignoring invalid distribution -atplotlib (c:\\users\\soura\\anaconda3\\lib\\site-packages)\n",
      "WARNING: Ignoring invalid distribution -atplotlib (c:\\users\\soura\\anaconda3\\lib\\site-packages)\n",
      "WARNING: Ignoring invalid distribution -atplotlib (c:\\users\\soura\\anaconda3\\lib\\site-packages)\n",
      "WARNING: Ignoring invalid distribution -atplotlib (c:\\users\\soura\\anaconda3\\lib\\site-packages)\n",
      "WARNING: Ignoring invalid distribution -atplotlib (c:\\users\\soura\\anaconda3\\lib\\site-packages)\n",
      "WARNING: Ignoring invalid distribution -atplotlib (c:\\users\\soura\\anaconda3\\lib\\site-packages)\n"
     ]
    }
   ],
   "source": [
    "pip install pandas-profiling"
   ]
  },
  {
   "cell_type": "code",
   "execution_count": 13,
   "id": "95dd14be",
   "metadata": {},
   "outputs": [
    {
     "name": "stderr",
     "output_type": "stream",
     "text": [
      "2023-05-09 17:09:41,509 - INFO     - Pandas backend NOT loaded\n",
      "2023-05-09 17:09:41,528 - INFO     - Numpy backend NOT loaded\n",
      "2023-05-09 17:09:41,529 - INFO     - Pyspark backend NOT loaded\n",
      "2023-05-09 17:09:41,530 - INFO     - Python backend loaded\n",
      "C:\\Users\\soura\\AppData\\Local\\Temp\\ipykernel_9964\\2126344586.py:2: DeprecationWarning:\n",
      "\n",
      "`import pandas_profiling` is going to be deprecated by April 1st. Please use `import ydata_profiling` instead.\n",
      "\n"
     ]
    },
    {
     "data": {
      "application/vnd.jupyter.widget-view+json": {
       "model_id": "6f24dd0037dc43c199086d0fcf377a7d",
       "version_major": 2,
       "version_minor": 0
      },
      "text/plain": [
       "Summarize dataset:   0%|          | 0/5 [00:00<?, ?it/s]"
      ]
     },
     "metadata": {},
     "output_type": "display_data"
    },
    {
     "data": {
      "application/vnd.jupyter.widget-view+json": {
       "model_id": "9d1da24fbc9c44218fa21ca7fd451fea",
       "version_major": 2,
       "version_minor": 0
      },
      "text/plain": [
       "Generate report structure:   0%|          | 0/1 [00:00<?, ?it/s]"
      ]
     },
     "metadata": {},
     "output_type": "display_data"
    },
    {
     "data": {
      "application/vnd.jupyter.widget-view+json": {
       "model_id": "191ef1bdf01e4d05bf5157e02a912c6f",
       "version_major": 2,
       "version_minor": 0
      },
      "text/plain": [
       "Render HTML:   0%|          | 0/1 [00:00<?, ?it/s]"
      ]
     },
     "metadata": {},
     "output_type": "display_data"
    },
    {
     "data": {
      "application/vnd.jupyter.widget-view+json": {
       "model_id": "d2cb9917d6984fcc9330ff41f5b912bf",
       "version_major": 2,
       "version_minor": 0
      },
      "text/plain": [
       "Export report to file:   0%|          | 0/1 [00:00<?, ?it/s]"
      ]
     },
     "metadata": {},
     "output_type": "display_data"
    }
   ],
   "source": [
    "import pandas as pd\n",
    "from pandas_profiling import ProfileReport\n",
    "design_report = ProfileReport(df) # create a report object\n",
    "design_report.to_file(output_file=\"report.html\") # save the report as an HTML file"
   ]
  },
  {
   "cell_type": "code",
   "execution_count": 16,
   "id": "d2204eb7",
   "metadata": {},
   "outputs": [
    {
     "data": {
      "text/plain": [
       "True"
      ]
     },
     "execution_count": 16,
     "metadata": {},
     "output_type": "execute_result"
    }
   ],
   "source": [
    "import webbrowser\n",
    "webbrowser.open(\"report.html\") \n"
   ]
  },
  {
   "cell_type": "code",
   "execution_count": null,
   "id": "8f718856",
   "metadata": {},
   "outputs": [],
   "source": []
  }
 ],
 "metadata": {
  "kernelspec": {
   "display_name": "Python 3 (ipykernel)",
   "language": "python",
   "name": "python3"
  },
  "language_info": {
   "codemirror_mode": {
    "name": "ipython",
    "version": 3
   },
   "file_extension": ".py",
   "mimetype": "text/x-python",
   "name": "python",
   "nbconvert_exporter": "python",
   "pygments_lexer": "ipython3",
   "version": "3.9.13"
  }
 },
 "nbformat": 4,
 "nbformat_minor": 5
}
